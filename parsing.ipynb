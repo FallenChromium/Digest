{
 "cells": [
  {
   "cell_type": "code",
   "execution_count": 7,
   "metadata": {},
   "outputs": [],
   "source": [
    "from readability import Document\n",
    "import crawl4ai\n",
    "import asyncio\n",
    "import nest_asyncio\n",
    "nest_asyncio.apply()"
   ]
  },
  {
   "cell_type": "code",
   "execution_count": 1,
   "metadata": {},
   "outputs": [],
   "source": [
    "%%capture\n",
    "!crawl4ai-setup\n",
    "!craw4ai-doctor"
   ]
  },
  {
   "cell_type": "code",
   "execution_count": 8,
   "metadata": {},
   "outputs": [],
   "source": [
    "from crawl4ai.content_filter_strategy import PruningContentFilter\n",
    "from crawl4ai.markdown_generation_strategy import DefaultMarkdownGenerator\n",
    "from crawl4ai import AsyncWebCrawler, CacheMode, BrowserConfig, CrawlerRunConfig, CacheMode, DefaultMarkdownGenerator, PruningContentFilter\n",
    "from playwright.async_api import Page, BrowserContext\n",
    "from IPython.display import display, HTML, Markdown"
   ]
  },
  {
   "cell_type": "code",
   "execution_count": null,
   "metadata": {},
   "outputs": [],
   "source": [
    "async def workflow(verbose=True):\n",
    "    async with AsyncWebCrawler(config=BrowserConfig(text_mode=True)) as crawler:\n",
    "        # Set a 'before_goto' hook to run custom code just before navigation\n",
    "        # crawler.crawler_strategy.set_hook(\"before_return_html\", before_return_html)\n",
    "\n",
    "        # Perform the crawl operation\n",
    "        result = await crawler.arun(\n",
    "            url=\"https://readhacker.news/s/6nUzH\",\n",
    "            config = CrawlerRunConfig(\n",
    "            cache_mode=CacheMode.ENABLED,\n",
    "            excluded_tags=['nav', 'footer', 'aside'],\n",
    "            remove_overlay_elements=True,\n",
    "            markdown_generator=DefaultMarkdownGenerator(\n",
    "                content_filter=PruningContentFilter(threshold=0.48, threshold_type=\"fixed\", min_word_threshold=0),\n",
    "                options={\n",
    "                    \"ignore_links\": True\n",
    "                }\n",
    "            ),\n",
    "        )\n",
    "        )\n",
    "        html = result.html\n",
    "        # html_cleaned_by_crawl4ai = PruningContentFilter()\n",
    "        html_cleaned_by_readability = Document(html).summary()\n",
    "        display(Markdown(DefaultMarkdownGenerator().generate_markdown(html).raw_markdown))\n",
    "        # print(Document(result.html).get_clean_html())\n",
    "\n",
    "asyncio.run(workflow())"
   ]
  },
  {
   "cell_type": "code",
   "execution_count": 2,
   "metadata": {},
   "outputs": [],
   "source": [
    "import pandas as pd\n",
    "from pathlib import Path\n",
    "from itables import init_notebook_mode, show\n",
    "\n",
    "# init_notebook_mode(all_interactive=True)"
   ]
  },
  {
   "cell_type": "code",
   "execution_count": null,
   "metadata": {},
   "outputs": [],
   "source": [
    "\n",
    "# Get all CSV files in current directory\n",
    "csv_files = list(Path('.').glob('*.csv'))\n",
    "\n",
    "# Read and concatenate all CSV files\n",
    "dfs = []\n",
    "for csv_file in csv_files:\n",
    "    try:\n",
    "        df = pd.read_csv(csv_file)\n",
    "        df['source'] = csv_file.stem  # Add source column to track origin\n",
    "        dfs.append(df)\n",
    "    except Exception as e:\n",
    "        print(f\"Error reading {csv_file}: {e}\")\n",
    "\n",
    "# Combine all dataframes\n",
    "combined_df = pd.concat(dfs, ignore_index=True)\n",
    "\n",
    "# Create interactive grid widget\n",
    "display(HTML(combined_df.head(10).to_html()))\n",
    "\n",
    "# Example filters (can be run in subsequent cells):\n",
    "\"\"\"\n",
    "# Filter by source\n",
    "hn_data = combined_df[combined_df['source'] == 'hn']\n",
    "\n",
    "# Filter by column value\n",
    "filtered_df = combined_df[combined_df['views'] > 1000]\n",
    "\n",
    "# Search text in specific column\n",
    "search_results = combined_df[combined_df['text'].str.contains('python', case=False, na=False)]\n",
    "\"\"\"\n"
   ]
  },
  {
   "cell_type": "code",
   "execution_count": null,
   "metadata": {},
   "outputs": [],
   "source": []
  }
 ],
 "metadata": {
  "kernelspec": {
   "display_name": ".venv",
   "language": "python",
   "name": "python3"
  },
  "language_info": {
   "codemirror_mode": {
    "name": "ipython",
    "version": 3
   },
   "file_extension": ".py",
   "mimetype": "text/x-python",
   "name": "python",
   "nbconvert_exporter": "python",
   "pygments_lexer": "ipython3",
   "version": "3.11.11"
  }
 },
 "nbformat": 4,
 "nbformat_minor": 2
}
